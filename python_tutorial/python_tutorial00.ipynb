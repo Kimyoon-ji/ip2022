{
 "cells": [
  {
   "cell_type": "code",
   "execution_count": null,
   "metadata": {},
   "outputs": [
    {
     "ename": "",
     "evalue": "",
     "output_type": "error",
     "traceback": [
      "\u001b[1;31m'Python 3.10.4 64-bit'(으)로 셀을 실행하려면 ipykernel 패키지가 필요합니다.\n",
      "\u001b[1;31m다음 명령어를 실행하여 Python 환경에 'ipykernel'을(를) 설치합니다. \n",
      "\u001b[1;31m 명령: 'c:/Users/Kim_yoonji/AppData/Local/Programs/Python/Python310/python.exe -m pip install ipykernel -U --user --force-reinstall'"
     ]
    }
   ],
   "source": [
    "x = 34 - 23     #A comment.\n",
    "y = \"Hello\"     #Another one.\n",
    "z = 3.45\n",
    "if z == 3.45 or y == \"Hello\":\n",
    "    x = x + 1\n",
    "    y = y + \"world\"     #String concat.\n",
    "print x\n",
    "print y"
   ]
  }
 ],
 "metadata": {
  "kernelspec": {
   "display_name": "Python 3.10.4 64-bit",
   "language": "python",
   "name": "python3"
  },
  "language_info": {
   "name": "python",
   "version": "3.10.4"
  },
  "orig_nbformat": 4,
  "vscode": {
   "interpreter": {
    "hash": "a0057bb4243cc7f6ec0ad91387485003cfe9d74055bc5ca1308188da08af5634"
   }
  }
 },
 "nbformat": 4,
 "nbformat_minor": 2
}
