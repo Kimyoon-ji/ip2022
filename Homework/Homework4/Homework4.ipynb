{
 "cells": [
  {
   "cell_type": "code",
   "execution_count": null,
   "metadata": {},
   "outputs": [],
   "source": [
    "import cv2\n",
    "import numpy as np\n",
    "from matplotlib import pyplot as plt"
   ]
  },
  {
   "cell_type": "code",
   "execution_count": null,
   "metadata": {},
   "outputs": [],
   "source": [
    "img = cv2.imread('dsu2.jpg')\n",
    "res = cv2.resize(img,None,fx=2, fy=2, interpolation = cv2.INTER_CUBIC)"
   ]
  },
  {
   "cell_type": "code",
   "execution_count": null,
   "metadata": {},
   "outputs": [],
   "source": [
    "img = cv2.imread('dsu2.jpg')\n",
    "rows,cols,ch = img.shape\n",
    "pts1 = np.float32([[[115,74],[277,95],[127,357],[287,332]]])\n",
    "pts2 = np.float32([[0,0],[300,0],[0,300],[300,300]])\n",
    "M = cv2.getPerspectiveTransform(pts1,pts2)\n",
    "dst = cv2.warpPerspective(img,M,(300,300))\n",
    "plt.subplot(121),plt.imshow(img),plt.title('Input')\n",
    "plt.subplot(122),plt.imshow(dst),plt.title('Output')\n",
    "plt.show()"
   ]
  },
  {
   "cell_type": "code",
   "execution_count": null,
   "metadata": {},
   "outputs": [],
   "source": [
    "img2 = cv2.imread('dsu1.jpg')\n",
    "rows,cols,ch = img2.shape\n",
    "\n",
    "pts3 = np.float32([[9,70],[292,50],[16,169],[287,219]])\n",
    "pts4 = np.float32([[0,0],[300,0],[0,300],[300,300]])\n",
    "\n",
    "M2 = cv2.getPerspectiveTransform(pts3,pts4)\n",
    "\n",
    "dst2 = cv2.warpPerspective(img2,M2,(300,300))\n",
    "\n",
    "plt.subplot(121),plt.imshow(img2),plt.title('Input')\n",
    "plt.subplot(122),plt.imshow(dst2),plt.title('Output')\n",
    "plt.show()"
   ]
  },
  {
   "cell_type": "code",
   "execution_count": null,
   "metadata": {},
   "outputs": [],
   "source": [
    "img3 = cv2.add(dst,dst2)\n",
    "\n",
    "cv2.imshow('img',img3)\n",
    "\n",
    "cv2.waitKey(0)\n",
    "cv2.destroyAllWindows("
   ]
  }
 ],
 "metadata": {
  "kernelspec": {
   "display_name": "opencv",
   "language": "python",
   "name": "python3"
  },
  "language_info": {
   "name": "python",
   "version": "3.8.13 (default, Mar 28 2022, 06:59:08) [MSC v.1916 64 bit (AMD64)]"
  },
  "orig_nbformat": 4,
  "vscode": {
   "interpreter": {
    "hash": "31a89e03d9a0012c912e50484c9ba7327859930a351a1ed2e9424e43ab4c54e6"
   }
  }
 },
 "nbformat": 4,
 "nbformat_minor": 2
}
