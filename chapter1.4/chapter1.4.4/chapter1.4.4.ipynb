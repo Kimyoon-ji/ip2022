{
 "cells": [
  {
   "cell_type": "markdown",
   "metadata": {},
   "source": [
    "# 1.4.4 Smoothing Images"
   ]
  },
  {
   "cell_type": "markdown",
   "metadata": {},
   "source": [
    "## Kernel Convolution"
   ]
  },
  {
   "cell_type": "code",
   "execution_count": 1,
   "metadata": {},
   "outputs": [],
   "source": [
    "import cv2\n",
    "import numpy as np\n",
    "from matplotlib import pyplot as plt"
   ]
  },
  {
   "cell_type": "code",
   "execution_count": 2,
   "metadata": {},
   "outputs": [],
   "source": [
    "l=1\n",
    "kernel = np.array([[0,-1,0],[-1,4,-1],[0,-1,0]],np.float32)"
   ]
  },
  {
   "cell_type": "code",
   "execution_count": 3,
   "metadata": {},
   "outputs": [
    {
     "data": {
      "text/plain": [
       "array([[ 0., -1.,  0.],\n",
       "       [-1.,  4., -1.],\n",
       "       [ 0., -1.,  0.]], dtype=float32)"
      ]
     },
     "execution_count": 3,
     "metadata": {},
     "output_type": "execute_result"
    }
   ],
   "source": [
    "kernel"
   ]
  },
  {
   "cell_type": "code",
   "execution_count": 4,
   "metadata": {},
   "outputs": [],
   "source": [
    "img = np.random.randint(10, size=(12,12))\n",
    "#img = np.ones((10,10),np.float32)"
   ]
  },
  {
   "cell_type": "code",
   "execution_count": 5,
   "metadata": {},
   "outputs": [
    {
     "data": {
      "text/plain": [
       "array([[6, 1, 0, 3, 4, 7, 6, 8, 1, 4, 4, 4],\n",
       "       [3, 9, 3, 4, 9, 0, 8, 1, 0, 3, 8, 9],\n",
       "       [7, 5, 9, 1, 3, 5, 3, 1, 7, 7, 5, 1],\n",
       "       [8, 6, 3, 4, 7, 8, 9, 2, 3, 3, 4, 9],\n",
       "       [5, 2, 6, 6, 8, 0, 6, 0, 5, 7, 9, 3],\n",
       "       [0, 5, 9, 9, 4, 3, 3, 4, 3, 7, 2, 7],\n",
       "       [4, 1, 4, 2, 6, 5, 6, 0, 3, 0, 2, 0],\n",
       "       [6, 5, 8, 7, 3, 8, 0, 3, 8, 6, 3, 3],\n",
       "       [6, 1, 6, 5, 1, 4, 0, 7, 2, 5, 1, 8],\n",
       "       [2, 4, 6, 8, 2, 0, 6, 2, 8, 9, 2, 5],\n",
       "       [3, 4, 6, 0, 4, 7, 5, 2, 4, 4, 3, 7],\n",
       "       [1, 7, 5, 9, 4, 5, 9, 7, 1, 0, 5, 6]])"
      ]
     },
     "execution_count": 5,
     "metadata": {},
     "output_type": "execute_result"
    }
   ],
   "source": [
    "img"
   ]
  },
  {
   "cell_type": "code",
   "execution_count": 6,
   "metadata": {},
   "outputs": [],
   "source": [
    "h,w=img.shape"
   ]
  },
  {
   "cell_type": "code",
   "execution_count": 7,
   "metadata": {},
   "outputs": [
    {
     "name": "stdout",
     "output_type": "stream",
     "text": [
      "12 12\n"
     ]
    }
   ],
   "source": [
    "print(h,w)"
   ]
  },
  {
   "cell_type": "code",
   "execution_count": 8,
   "metadata": {},
   "outputs": [],
   "source": [
    "#[*range(-2,3)]"
   ]
  },
  {
   "cell_type": "code",
   "execution_count": 9,
   "metadata": {},
   "outputs": [
    {
     "name": "stderr",
     "output_type": "stream",
     "text": [
      "C:\\Users\\Kim_yoonji\\AppData\\Local\\Temp\\ipykernel_21076\\2160328971.py:1: DeprecationWarning: `np.int` is a deprecated alias for the builtin `int`. To silence this warning, use `int` by itself. Doing this will not modify any behavior and is safe. When replacing `np.int`, you may wish to use e.g. `np.int64` or `np.int32` to specify the precision. If you wish to review your current use, check the release note link for additional information.\n",
      "Deprecated in NumPy 1.20; for more details and guidance: https://numpy.org/devdocs/release/1.20.0-notes.html#deprecations\n",
      "  dst = np.zeros((h,w),np.int)\n"
     ]
    }
   ],
   "source": [
    "dst = np.zeros((h,w),np.int)"
   ]
  },
  {
   "cell_type": "code",
   "execution_count": 10,
   "metadata": {},
   "outputs": [],
   "source": [
    "for i in range(l,h-l):\n",
    "    for j in range(l,w-l):\n",
    "        t=0\n",
    "        for p in range(-l,l+1):\n",
    "            for q in range(-l,l+1):\n",
    "                t += kernel[p+l,q+l]*img[i+p,j+q]\n",
    "        dst[i,j]=t        "
   ]
  },
  {
   "cell_type": "code",
   "execution_count": 11,
   "metadata": {},
   "outputs": [
    {
     "data": {
      "text/plain": [
       "array([[6, 1, 0, 3, 4, 7, 6, 8, 1, 4, 4, 4],\n",
       "       [3, 9, 3, 4, 9, 0, 8, 1, 0, 3, 8, 9],\n",
       "       [7, 5, 9, 1, 3, 5, 3, 1, 7, 7, 5, 1],\n",
       "       [8, 6, 3, 4, 7, 8, 9, 2, 3, 3, 4, 9],\n",
       "       [5, 2, 6, 6, 8, 0, 6, 0, 5, 7, 9, 3],\n",
       "       [0, 5, 9, 9, 4, 3, 3, 4, 3, 7, 2, 7],\n",
       "       [4, 1, 4, 2, 6, 5, 6, 0, 3, 0, 2, 0],\n",
       "       [6, 5, 8, 7, 3, 8, 0, 3, 8, 6, 3, 3],\n",
       "       [6, 1, 6, 5, 1, 4, 0, 7, 2, 5, 1, 8],\n",
       "       [2, 4, 6, 8, 2, 0, 6, 2, 8, 9, 2, 5],\n",
       "       [3, 4, 6, 0, 4, 7, 5, 2, 4, 4, 3, 7],\n",
       "       [1, 7, 5, 9, 4, 5, 9, 7, 1, 0, 5, 6]])"
      ]
     },
     "execution_count": 11,
     "metadata": {},
     "output_type": "execute_result"
    }
   ],
   "source": [
    "img"
   ]
  },
  {
   "cell_type": "code",
   "execution_count": 12,
   "metadata": {},
   "outputs": [
    {
     "data": {
      "text/plain": [
       "array([[  0,   0,   0,   0,   0,   0,   0,   0,   0,   0,   0,   0],\n",
       "       [  0,  24, -10,   0,  25, -29,  22, -13, -12,  -7,  11,   0],\n",
       "       [  0, -11,  24, -16, -10,   6, -11,  -9,  17,  10,   0,   0],\n",
       "       [  0,   6, -13,  -1,   5,  11,  17,  -5,  -5,  -9, -10,   0],\n",
       "       [  0, -14,   4,  -3,  15, -25,  12, -17,   7,   4,  20,   0],\n",
       "       [  0,   8,  12,  15, -10,   0,  -7,  10,  -7,  16, -17,   0],\n",
       "       [  0, -14,  -4, -18,  10,  -3,  16, -16,   1, -18,   3,   0],\n",
       "       [  0,   4,  10,  10, -10,  20, -17,  -3,  18,   8,   0,   0],\n",
       "       [  0, -17,   4,  -2, -10,   7, -17,  21, -20,   2, -14,   0],\n",
       "       [  0,   3,   0,  19,  -5, -19,  17, -15,  15,  17, -10,   0],\n",
       "       [  0,  -4,   9, -27,   3,  14,  -4, -10,   1,   0,  -6,   0],\n",
       "       [  0,   0,   0,   0,   0,   0,   0,   0,   0,   0,   0,   0]])"
      ]
     },
     "execution_count": 12,
     "metadata": {},
     "output_type": "execute_result"
    }
   ],
   "source": [
    "dst"
   ]
  },
  {
   "cell_type": "code",
   "execution_count": 13,
   "metadata": {},
   "outputs": [],
   "source": [
    "img = cv2.imread('lena.png', 0)"
   ]
  },
  {
   "cell_type": "code",
   "execution_count": 14,
   "metadata": {},
   "outputs": [],
   "source": [
    "h,w=img.shape"
   ]
  },
  {
   "cell_type": "code",
   "execution_count": 15,
   "metadata": {},
   "outputs": [],
   "source": [
    "dst = np.zeros((h-2*l,w-2*l),np.uint8)"
   ]
  },
  {
   "cell_type": "code",
   "execution_count": 16,
   "metadata": {},
   "outputs": [],
   "source": [
    "for i in range(l,h-l):\n",
    "    for j in range(l,w-l):\n",
    "        t=0\n",
    "        for p in range(-l,l+1):\n",
    "            for q in range(-l,l+1):\n",
    "                t += kernel[p+l,q+l]*img[i+p,j+q]\n",
    "        dst[i-l,j-l]=t "
   ]
  },
  {
   "cell_type": "code",
   "execution_count": 17,
   "metadata": {},
   "outputs": [],
   "source": [
    "cv2.imshow('img',img)\n",
    "cv2.imshow('dst',dst)\n",
    "cv2.waitKey(0)\n",
    "cv2.destroyAllWindows()"
   ]
  },
  {
   "cell_type": "code",
   "execution_count": null,
   "metadata": {},
   "outputs": [],
   "source": []
  }
 ],
 "metadata": {
  "kernelspec": {
   "display_name": "Python 3.8.13 ('opencv')",
   "language": "python",
   "name": "python3"
  },
  "language_info": {
   "codemirror_mode": {
    "name": "ipython",
    "version": 3
   },
   "file_extension": ".py",
   "mimetype": "text/x-python",
   "name": "python",
   "nbconvert_exporter": "python",
   "pygments_lexer": "ipython3",
   "version": "3.8.13"
  },
  "vscode": {
   "interpreter": {
    "hash": "31a89e03d9a0012c912e50484c9ba7327859930a351a1ed2e9424e43ab4c54e6"
   }
  }
 },
 "nbformat": 4,
 "nbformat_minor": 4
}
